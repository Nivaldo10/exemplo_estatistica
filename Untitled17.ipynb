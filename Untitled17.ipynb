{
  "nbformat": 4,
  "nbformat_minor": 0,
  "metadata": {
    "colab": {
      "provenance": [],
      "authorship_tag": "ABX9TyPpsJeOgPasCj6aWQyTXa7y",
      "include_colab_link": true
    },
    "kernelspec": {
      "name": "python3",
      "display_name": "Python 3"
    },
    "language_info": {
      "name": "python"
    }
  },
  "cells": [
    {
      "cell_type": "markdown",
      "metadata": {
        "id": "view-in-github",
        "colab_type": "text"
      },
      "source": [
        "<a href=\"https://colab.research.google.com/github/Nivaldo10/exemplo_estatistica/blob/main/Untitled17.ipynb\" target=\"_parent\"><img src=\"https://colab.research.google.com/assets/colab-badge.svg\" alt=\"Open In Colab\"/></a>"
      ]
    },
    {
      "cell_type": "code",
      "source": [
        "import numpy as np\n",
        "from statsmodels.stats.proportion import proportions_ztest\n",
        "# Ela calcula a estatística z e o valor-p para um teste de proporção, comparando duas proporções (no caso, de duas amostras independentes).\n",
        "\n",
        "# Dados das duas amostras\n",
        "amostra1 = np.array([45, 55])  # 45 sucessos em 100 tentativas\n",
        "amostra2 = np.array([30, 70])  # 30 sucessos em 100 tentativas\n",
        "\n",
        "# Número de sucessos em cada amostra\n",
        "sucessos = np.array([amostra1[0], amostra2[0]])\n",
        "\n",
        "# Número total de tentativas em cada amostra\n",
        "tentativas = np.array([amostra1.sum(), amostra2.sum()])\n",
        "\n",
        "# Realizando o teste de proporção para duas amostras independentes\n",
        "z_stat, p_value = proportions_ztest(sucessos, tentativas)\n",
        "\n",
        "# Exibindo os resultados\n",
        "print(f\"Estatística Z: {z_stat:.4f}\")\n",
        "print(f\"Valor-p: {p_value:.4f}\")\n",
        "\n",
        "# Interpretação do resultado\n",
        "alpha = 0.05  # nivel de significancia\n",
        "if p_value < alpha:\n",
        "    print(\"Rejeitamos a hipótese nula: há uma diferença significativa entre as proporções.\")\n",
        "else:\n",
        "    print(\"Não rejeitamos a hipótese nula: não há diferença significativa entre as proporções.\")"
      ],
      "metadata": {
        "id": "_Y8PJRW_5kXd",
        "colab": {
          "base_uri": "https://localhost:8080/"
        },
        "outputId": "ff668495-7214-4e08-92d3-e69f150c3e9d"
      },
      "execution_count": 1,
      "outputs": [
        {
          "output_type": "stream",
          "name": "stdout",
          "text": [
            "Estatística Z: 2.1909\n",
            "Valor-p: 0.0285\n",
            "Rejeitamos a hipótese nula: há uma diferença significativa entre as proporções.\n"
          ]
        }
      ]
    }
  ]
}